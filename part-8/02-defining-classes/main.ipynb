{
 "cells": [
  {
   "metadata": {
    "ExecuteTime": {
     "end_time": "2025-08-20T07:21:42.053224Z",
     "start_time": "2025-08-20T07:21:42.046643Z"
    }
   },
   "cell_type": "code",
   "source": [
    "# Using objects formed from your own classes\n",
    "\n",
    "class BankAccount:\n",
    "    def __init__(self, balance: float, owner: str) -> None:\n",
    "        self.balance = balance\n",
    "        self.owner = owner\n",
    "\n",
    "    def __repr__(self) -> str:\n",
    "        return f\"BankAccount(balance: {self.balance}, owner: {self.owner})\"\n",
    "\n",
    "def open_account(name: str) -> BankAccount:\n",
    "    \"\"\"\n",
    "    Open new account\n",
    "    :param name: The name of the person who opens the account\n",
    "    :return: A new account\n",
    "    \"\"\"\n",
    "    new_account: BankAccount = BankAccount(0, name)\n",
    "    return new_account\n",
    "\n",
    "def deposit_money_on_account(account: BankAccount, amount: int) -> None:\n",
    "    \"\"\"\n",
    "    Deposit money on an account\n",
    "    :param account: the account\n",
    "    :param amount:  Money that we deposit\n",
    "    :return: None\n",
    "    \"\"\"\n",
    "\n",
    "    if amount < 0:\n",
    "        raise ValueError(\"Amount must be positive\")\n",
    "\n",
    "    account.balance += amount\n",
    "\n",
    "\n",
    "bernard: BankAccount = open_account(\"Bernard\")\n",
    "deposit_money_on_account(bernard, 1000)\n",
    "\n",
    "print(bernard)\n",
    "print(f\"Balance: ${bernard.balance}\")\n",
    "\n"
   ],
   "id": "cddc338323d31dd6",
   "outputs": [
    {
     "name": "stdout",
     "output_type": "stream",
     "text": [
      "BankAccount(balance: 1000, owner: Bernard)\n",
      "Balance: $1000\n"
     ]
    }
   ],
   "execution_count": 5
  }
 ],
 "metadata": {
  "kernelspec": {
   "name": "python3",
   "language": "python",
   "display_name": "Python 3 (ipykernel)"
  }
 },
 "nbformat": 4,
 "nbformat_minor": 5
}

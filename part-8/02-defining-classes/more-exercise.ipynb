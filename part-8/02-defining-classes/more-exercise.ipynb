{
 "cells": [
  {
   "cell_type": "code",
   "id": "initial_id",
   "metadata": {
    "collapsed": true,
    "ExecuteTime": {
     "end_time": "2025-08-20T06:47:11.317533Z",
     "start_time": "2025-08-20T06:47:11.309342Z"
    }
   },
   "source": [
    "#TODO: Three Classes\n",
    "\n",
    "class CheckList:\n",
    "    def __init__(self, header: str, entries: list):\n",
    "        self.header = header\n",
    "        self.entries = entries\n",
    "\n",
    "\n",
    "class Customer:\n",
    "    def __init__(self, customer_id: str, balance: float, discount: int) -> None:\n",
    "        self.id = customer_id\n",
    "        self.balance = balance\n",
    "        self.discount = discount\n",
    "\n",
    "\n",
    "class Cable:\n",
    "    def __int__(self, model: str, length: float, max_speed: int, bidirectional: bool):\n",
    "        self.model = model\n",
    "        self.length = length\n",
    "        self.max_speed = max_speed\n",
    "        self.bidirectional = bidirectional"
   ],
   "outputs": [
    {
     "name": "stdout",
     "output_type": "stream",
     "text": [
      "Hello world\n"
     ]
    }
   ],
   "execution_count": 1
  }
 ],
 "metadata": {
  "kernelspec": {
   "display_name": "Python 3",
   "language": "python",
   "name": "python3"
  },
  "language_info": {
   "codemirror_mode": {
    "name": "ipython",
    "version": 2
   },
   "file_extension": ".py",
   "mimetype": "text/x-python",
   "name": "python",
   "nbconvert_exporter": "python",
   "pygments_lexer": "ipython2",
   "version": "2.7.6"
  }
 },
 "nbformat": 4,
 "nbformat_minor": 5
}

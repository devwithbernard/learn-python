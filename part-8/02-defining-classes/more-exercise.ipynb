{
 "cells": [
  {
   "cell_type": "code",
   "id": "initial_id",
   "metadata": {
    "collapsed": true,
    "ExecuteTime": {
     "end_time": "2025-08-20T06:47:11.317533Z",
     "start_time": "2025-08-20T06:47:11.309342Z"
    }
   },
   "source": [
    "#TODO: Three Classes\n",
    "\n",
    "class CheckList:\n",
    "    def __init__(self, header: str, entries: list):\n",
    "        self.header = header\n",
    "        self.entries = entries\n",
    "\n",
    "\n",
    "class Customer:\n",
    "    def __init__(self, customer_id: str, balance: float, discount: int) -> None:\n",
    "        self.id = customer_id\n",
    "        self.balance = balance\n",
    "        self.discount = discount\n",
    "\n",
    "\n",
    "class Cable:\n",
    "    def __int__(self, model: str, length: float, max_speed: int, bidirectional: bool):\n",
    "        self.model = model\n",
    "        self.length = length\n",
    "        self.max_speed = max_speed\n",
    "        self.bidirectional = bidirectional"
   ],
   "outputs": [
    {
     "name": "stdout",
     "output_type": "stream",
     "text": [
      "Hello world\n"
     ]
    }
   ],
   "execution_count": 1
  },
  {
   "metadata": {},
   "cell_type": "markdown",
   "source": "### TODO: Define class: Pet",
   "id": "f04afb56ecfdc774"
  },
  {
   "metadata": {
    "ExecuteTime": {
     "end_time": "2025-08-22T07:49:17.733765Z",
     "start_time": "2025-08-22T07:49:17.726646Z"
    }
   },
   "cell_type": "code",
   "source": [
    "class Pet:\n",
    "    def __init__(self, name: str, species: str, year_of_birth: int) -> None:\n",
    "        self.name = name\n",
    "        self.species = species\n",
    "        self.year_of_birth = year_of_birth\n",
    "\n",
    "\n",
    "def new_pet(name: str, species: str, year_of_birth) -> Pet:\n",
    "    return Pet(name, species, year_of_birth)\n",
    "\n",
    "\n",
    "fluffy = new_pet(\"Fluffy\", \"Dog\", 2017)\n",
    "\n",
    "print(\"Name:\", fluffy.name)\n",
    "print(\"Species:\", fluffy.species)\n",
    "print(\"Year of birth:\", fluffy.year_of_birth)\n"
   ],
   "id": "99dcf1f821a122af",
   "outputs": [
    {
     "name": "stdout",
     "output_type": "stream",
     "text": [
      "Name: Fluffy\n",
      "Species: Dog\n",
      "Year of birth: 2017\n"
     ]
    }
   ],
   "execution_count": 1
  },
  {
   "metadata": {},
   "cell_type": "markdown",
   "source": "### TODO: The older book",
   "id": "172e1c06754385b3"
  },
  {
   "metadata": {
    "ExecuteTime": {
     "end_time": "2025-08-22T08:01:28.490470Z",
     "start_time": "2025-08-22T08:01:28.483888Z"
    }
   },
   "cell_type": "code",
   "source": [
    "class Book:\n",
    "    def __init__(self, title: str, author: str, topic: str, year: int) -> None:\n",
    "        self.title = title\n",
    "        self.author = author\n",
    "        self.topic = topic\n",
    "        self.year = year\n",
    "\n",
    "    def __eq__(self, other):\n",
    "        return self.year == other.year\n",
    "\n",
    "\n",
    "def older_book(book1: Book, book2: Book) -> None:\n",
    "    old_book = book1\n",
    "\n",
    "    if book2.year < book1.year:\n",
    "        old_book = book2\n",
    "        print(f\"{old_book.title} is older, it was published in {old_book.year}\")\n",
    "\n",
    "    elif book1 == book2:\n",
    "        print(f\"{book1.title} and {book2.title} were published in {book1.year}\")\n",
    "\n",
    "\n",
    "python = Book(\"Fluent Python\", \"Luciano Ramalho\", \"programming\", 2015)\n",
    "everest = Book(\"High Adventure\", \"Edmund Hillary\", \"autobiography\", 1956)\n",
    "norma = Book(\"Norma\", \"Sofi Oksanen\", \"crime\", 2015)\n",
    "\n",
    "older_book(python, everest)\n",
    "older_book(python, norma)"
   ],
   "id": "8b1872effc1cac45",
   "outputs": [
    {
     "name": "stdout",
     "output_type": "stream",
     "text": [
      "High Adventure is older, it was published in 1956\n",
      "Fluent Python and Norma were published in 2015\n"
     ]
    }
   ],
   "execution_count": 3
  }
 ],
 "metadata": {
  "kernelspec": {
   "display_name": "Python 3",
   "language": "python",
   "name": "python3"
  },
  "language_info": {
   "codemirror_mode": {
    "name": "ipython",
    "version": 2
   },
   "file_extension": ".py",
   "mimetype": "text/x-python",
   "name": "python",
   "nbconvert_exporter": "python",
   "pygments_lexer": "ipython2",
   "version": "2.7.6"
  }
 },
 "nbformat": 4,
 "nbformat_minor": 5
}

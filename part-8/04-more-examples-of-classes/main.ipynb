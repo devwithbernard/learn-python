{
 "cells": [
  {
   "metadata": {},
   "cell_type": "markdown",
   "source": "## More examples of classes",
   "id": "5a3e3901495b294"
  },
  {
   "metadata": {},
   "cell_type": "markdown",
   "source": "### The Rectangle class",
   "id": "832b5f46353b543d"
  },
  {
   "metadata": {
    "ExecuteTime": {
     "end_time": "2025-08-23T10:02:47.331823Z",
     "start_time": "2025-08-23T10:02:47.325095Z"
    }
   },
   "cell_type": "code",
   "source": [
    "class Rectangle:\n",
    "    def __init__(self, left_upper: tuple, right_lower: tuple) -> None:\n",
    "        self.left_upper = left_upper\n",
    "        self.right_lower= right_lower\n",
    "        self.width = abs(right_lower[0] - left_upper[0])\n",
    "        self.height = abs(right_lower[1] - left_upper[1])\n",
    "\n",
    "    def area(self) -> float:\n",
    "        return self.width * self.height\n",
    "\n",
    "    def perimeter(self) -> float:\n",
    "        return 2 * (self.width + self.height)\n",
    "\n",
    "    def move(self, x_change: float, y_change: float) -> None:\n",
    "        corner = self.left_upper\n",
    "        self.left_upper = (corner[0] + x_change, corner[1] + y_change)\n",
    "\n",
    "        corner = self.right_lower\n",
    "        self.right_lower = (corner[0] + x_change, corner[1] + y_change)\n",
    "\n",
    "\n",
    "# Test the Rectangle class\n",
    "rectangle = Rectangle((1, 1), (4, 3))\n",
    "print(rectangle.left_upper)\n",
    "print(rectangle.right_lower)\n",
    "print(rectangle.width)\n",
    "print(rectangle.height)\n",
    "print(rectangle.perimeter())\n",
    "print(rectangle.area())\n",
    "\n",
    "rectangle.move(3, 3)\n",
    "print(rectangle.left_upper)\n",
    "print(rectangle.right_lower)"
   ],
   "id": "ce7b390e1c4e3176",
   "outputs": [
    {
     "name": "stdout",
     "output_type": "stream",
     "text": [
      "(1, 1)\n",
      "(4, 3)\n",
      "3\n",
      "2\n",
      "10\n",
      "6\n",
      "(4, 4)\n",
      "(7, 6)\n"
     ]
    }
   ],
   "execution_count": 1
  }
 ],
 "metadata": {
  "kernelspec": {
   "name": "python3",
   "language": "python",
   "display_name": "Python 3 (ipykernel)"
  }
 },
 "nbformat": 4,
 "nbformat_minor": 5
}

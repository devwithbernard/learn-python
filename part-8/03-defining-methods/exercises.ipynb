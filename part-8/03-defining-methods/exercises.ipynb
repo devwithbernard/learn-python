{
 "cells": [
  {
   "metadata": {},
   "cell_type": "markdown",
   "source": "### TODO: Decreasing counter",
   "id": "a4862df427fb2146"
  },
  {
   "metadata": {
    "ExecuteTime": {
     "end_time": "2025-08-22T14:12:43.506806Z",
     "start_time": "2025-08-22T14:12:43.499678Z"
    }
   },
   "cell_type": "code",
   "source": [
    "class DecreasingCounter:\n",
    "    \"\"\"A counter that decreases its value but never goes below zero.\n",
    "\n",
    "    Attributes:\n",
    "        value (int): The current value of the counter.\n",
    "    \"\"\"\n",
    "\n",
    "    def __init__(self, initial_value: int) -> None:\n",
    "        \"\"\"Initializes the counter with a given starting value.\n",
    "\n",
    "        Args:\n",
    "            initial_value (int): The initial value of the counter.\n",
    "        \"\"\"\n",
    "        self._original_value = initial_value\n",
    "        self.value = self._original_value\n",
    "\n",
    "    def print_value(self) -> None:\n",
    "        \"\"\"Prints the current value of the counter.\n",
    "\n",
    "        Returns:\n",
    "            None\n",
    "        \"\"\"\n",
    "        print(f\"Value: {self.value}\")\n",
    "\n",
    "    def decrease(self) -> None:\n",
    "        \"\"\"Decreases the counter value by 1 without going below zero.\n",
    "\n",
    "        Returns:\n",
    "            None\n",
    "        \"\"\"\n",
    "        if self.value > 0:\n",
    "            self.value -= 1\n",
    "\n",
    "    def set_to_zero(self) -> None:\n",
    "        \"\"\"Resets the counter value to zero.\n",
    "\n",
    "        Returns:\n",
    "            None\n",
    "        \"\"\"\n",
    "        self.value = 0\n",
    "\n",
    "    def reset_original_value(self) -> None:\n",
    "        self.value = self._original_value\n",
    "\n",
    "\n",
    "counter = DecreasingCounter(2)\n",
    "counter.print_value()\n",
    "counter.decrease()\n",
    "counter.print_value()\n",
    "counter.decrease()\n",
    "counter.print_value()\n",
    "counter.decrease()\n",
    "counter.print_value()"
   ],
   "id": "180087f7018b59ed",
   "outputs": [
    {
     "name": "stdout",
     "output_type": "stream",
     "text": [
      "Value: 2\n",
      "Value: 1\n",
      "Value: 0\n",
      "Value: 0\n"
     ]
    }
   ],
   "execution_count": 2
  },
  {
   "metadata": {},
   "cell_type": "markdown",
   "source": "### TODO: First and last name",
   "id": "a39acbcfa137fe94"
  },
  {
   "metadata": {
    "ExecuteTime": {
     "end_time": "2025-08-23T08:12:20.822986Z",
     "start_time": "2025-08-23T08:12:20.788741Z"
    }
   },
   "cell_type": "code",
   "source": [
    "def valid_name(name: str) -> bool:\n",
    "    return len(name.split(\" \")) >= 2\n",
    "\n",
    "class Person:\n",
    "    def __init__(self, name: str, *args) -> None:\n",
    "        self.name = \"\"\n",
    "\n",
    "        # Helper function to validate an attribute\n",
    "        if valid_name(name):\n",
    "            self.name = name\n",
    "        else:\n",
    "            print(args)\n",
    "            raise ValueError(\"Name attribute is not valid.\")\n",
    "\n",
    "\n",
    "    def get_first_name(self) -> str:\n",
    "        return self.name.split(\" \")[0]\n",
    "\n",
    "    def get_last_name(self) -> str:\n",
    "        return \" \".join(self.name.split(\" \")[1:])\n",
    "\n",
    "\n",
    "peter = Person('Peter Pythons')\n",
    "print(f\"First name: {peter.get_first_name()}\")\n",
    "print(f\"Last name: {peter.get_last_name()}\")\n",
    "\n",
    "paula = Person('Paula Pythonen')\n",
    "print(f\"First name: {paula.get_first_name()}\")\n",
    "print(f\"Last name: {paula.get_last_name()}\")"
   ],
   "id": "6ea8cc497bb870e",
   "outputs": [
    {
     "name": "stdout",
     "output_type": "stream",
     "text": [
      "First name: Peter\n",
      "Last name: Pythons\n",
      "()\n",
      "Name must be in this format: ''\n"
     ]
    },
    {
     "ename": "ValueError",
     "evalue": "Name attribute is not valid.",
     "output_type": "error",
     "traceback": [
      "\u001B[31m---------------------------------------------------------------------------\u001B[39m",
      "\u001B[31mValueError\u001B[39m                                Traceback (most recent call last)",
      "\u001B[36mCell\u001B[39m\u001B[36m \u001B[39m\u001B[32mIn[7]\u001B[39m\u001B[32m, line 28\u001B[39m\n\u001B[32m     25\u001B[39m \u001B[38;5;28mprint\u001B[39m(\u001B[33mf\u001B[39m\u001B[33m\"\u001B[39m\u001B[33mFirst name: \u001B[39m\u001B[38;5;132;01m{\u001B[39;00mpeter.get_first_name()\u001B[38;5;132;01m}\u001B[39;00m\u001B[33m\"\u001B[39m)\n\u001B[32m     26\u001B[39m \u001B[38;5;28mprint\u001B[39m(\u001B[33mf\u001B[39m\u001B[33m\"\u001B[39m\u001B[33mLast name: \u001B[39m\u001B[38;5;132;01m{\u001B[39;00mpeter.get_last_name()\u001B[38;5;132;01m}\u001B[39;00m\u001B[33m\"\u001B[39m)\n\u001B[32m---> \u001B[39m\u001B[32m28\u001B[39m paula = \u001B[43mPerson\u001B[49m\u001B[43m(\u001B[49m\u001B[33;43m'\u001B[39;49m\u001B[33;43mPaula\u001B[39;49m\u001B[33;43m'\u001B[39;49m\u001B[43m)\u001B[49m\n\u001B[32m     29\u001B[39m \u001B[38;5;28mprint\u001B[39m(\u001B[33mf\u001B[39m\u001B[33m\"\u001B[39m\u001B[33mFirst name: \u001B[39m\u001B[38;5;132;01m{\u001B[39;00mpaula.get_first_name()\u001B[38;5;132;01m}\u001B[39;00m\u001B[33m\"\u001B[39m)\n\u001B[32m     30\u001B[39m \u001B[38;5;28mprint\u001B[39m(\u001B[33mf\u001B[39m\u001B[33m\"\u001B[39m\u001B[33mLast name: \u001B[39m\u001B[38;5;132;01m{\u001B[39;00mpaula.get_last_name()\u001B[38;5;132;01m}\u001B[39;00m\u001B[33m\"\u001B[39m)\n",
      "\u001B[36mCell\u001B[39m\u001B[36m \u001B[39m\u001B[32mIn[7]\u001B[39m\u001B[32m, line 14\u001B[39m, in \u001B[36mPerson.__init__\u001B[39m\u001B[34m(self, name, *args)\u001B[39m\n\u001B[32m     12\u001B[39m \u001B[38;5;28mprint\u001B[39m(args)\n\u001B[32m     13\u001B[39m \u001B[38;5;28mprint\u001B[39m(\u001B[33mf\u001B[39m\u001B[33m\"\u001B[39m\u001B[33mName must be in this format: \u001B[39m\u001B[33m'\u001B[39m\u001B[33m'\u001B[39m\u001B[33m\"\u001B[39m)\n\u001B[32m---> \u001B[39m\u001B[32m14\u001B[39m \u001B[38;5;28;01mraise\u001B[39;00m \u001B[38;5;167;01mValueError\u001B[39;00m(\u001B[33m\"\u001B[39m\u001B[33mName attribute is not valid.\u001B[39m\u001B[33m\"\u001B[39m)\n",
      "\u001B[31mValueError\u001B[39m: Name attribute is not valid."
     ]
    }
   ],
   "execution_count": 7
  }
 ],
 "metadata": {
  "kernelspec": {
   "name": "python3",
   "language": "python",
   "display_name": "Python 3 (ipykernel)"
  }
 },
 "nbformat": 4,
 "nbformat_minor": 5
}

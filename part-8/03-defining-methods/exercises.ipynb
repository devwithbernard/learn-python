{
 "cells": [
  {
   "metadata": {},
   "cell_type": "markdown",
   "source": "### TODO: Decreasing counter",
   "id": "a4862df427fb2146"
  },
  {
   "metadata": {
    "ExecuteTime": {
     "end_time": "2025-08-22T14:12:43.506806Z",
     "start_time": "2025-08-22T14:12:43.499678Z"
    }
   },
   "cell_type": "code",
   "source": [
    "class DecreasingCounter:\n",
    "    \"\"\"A counter that decreases its value but never goes below zero.\n",
    "\n",
    "    Attributes:\n",
    "        value (int): The current value of the counter.\n",
    "    \"\"\"\n",
    "\n",
    "    def __init__(self, initial_value: int) -> None:\n",
    "        \"\"\"Initializes the counter with a given starting value.\n",
    "\n",
    "        Args:\n",
    "            initial_value (int): The initial value of the counter.\n",
    "        \"\"\"\n",
    "        self._original_value = initial_value\n",
    "        self.value = self._original_value\n",
    "\n",
    "    def print_value(self) -> None:\n",
    "        \"\"\"Prints the current value of the counter.\n",
    "\n",
    "        Returns:\n",
    "            None\n",
    "        \"\"\"\n",
    "        print(f\"Value: {self.value}\")\n",
    "\n",
    "    def decrease(self) -> None:\n",
    "        \"\"\"Decreases the counter value by 1 without going below zero.\n",
    "\n",
    "        Returns:\n",
    "            None\n",
    "        \"\"\"\n",
    "        if self.value > 0:\n",
    "            self.value -= 1\n",
    "\n",
    "    def set_to_zero(self) -> None:\n",
    "        \"\"\"Resets the counter value to zero.\n",
    "\n",
    "        Returns:\n",
    "            None\n",
    "        \"\"\"\n",
    "        self.value = 0\n",
    "\n",
    "    def reset_original_value(self) -> None:\n",
    "        self.value = self._original_value\n",
    "\n",
    "\n",
    "counter = DecreasingCounter(2)\n",
    "counter.print_value()\n",
    "counter.decrease()\n",
    "counter.print_value()\n",
    "counter.decrease()\n",
    "counter.print_value()\n",
    "counter.decrease()\n",
    "counter.print_value()"
   ],
   "id": "180087f7018b59ed",
   "outputs": [
    {
     "name": "stdout",
     "output_type": "stream",
     "text": [
      "Value: 2\n",
      "Value: 1\n",
      "Value: 0\n",
      "Value: 0\n"
     ]
    }
   ],
   "execution_count": 2
  }
 ],
 "metadata": {
  "kernelspec": {
   "name": "python3",
   "language": "python",
   "display_name": "Python 3 (ipykernel)"
  }
 },
 "nbformat": 4,
 "nbformat_minor": 5
}

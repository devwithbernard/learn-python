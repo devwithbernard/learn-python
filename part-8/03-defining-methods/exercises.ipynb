{
 "cells": [
  {
   "metadata": {},
   "cell_type": "markdown",
   "source": "### TODO: Decreasing counter",
   "id": "a4862df427fb2146"
  },
  {
   "metadata": {
    "ExecuteTime": {
     "end_time": "2025-08-22T14:12:43.506806Z",
     "start_time": "2025-08-22T14:12:43.499678Z"
    }
   },
   "cell_type": "code",
   "source": [
    "class DecreasingCounter:\n",
    "    \"\"\"A counter that decreases its value but never goes below zero.\n",
    "\n",
    "    Attributes:\n",
    "        value (int): The current value of the counter.\n",
    "    \"\"\"\n",
    "\n",
    "    def __init__(self, initial_value: int) -> None:\n",
    "        \"\"\"Initializes the counter with a given starting value.\n",
    "\n",
    "        Args:\n",
    "            initial_value (int): The initial value of the counter.\n",
    "        \"\"\"\n",
    "        self._original_value = initial_value\n",
    "        self.value = self._original_value\n",
    "\n",
    "    def print_value(self) -> None:\n",
    "        \"\"\"Prints the current value of the counter.\n",
    "\n",
    "        Returns:\n",
    "            None\n",
    "        \"\"\"\n",
    "        print(f\"Value: {self.value}\")\n",
    "\n",
    "    def decrease(self) -> None:\n",
    "        \"\"\"Decreases the counter value by 1 without going below zero.\n",
    "\n",
    "        Returns:\n",
    "            None\n",
    "        \"\"\"\n",
    "        if self.value > 0:\n",
    "            self.value -= 1\n",
    "\n",
    "    def set_to_zero(self) -> None:\n",
    "        \"\"\"Resets the counter value to zero.\n",
    "\n",
    "        Returns:\n",
    "            None\n",
    "        \"\"\"\n",
    "        self.value = 0\n",
    "\n",
    "    def reset_original_value(self) -> None:\n",
    "        self.value = self._original_value\n",
    "\n",
    "\n",
    "counter = DecreasingCounter(2)\n",
    "counter.print_value()\n",
    "counter.decrease()\n",
    "counter.print_value()\n",
    "counter.decrease()\n",
    "counter.print_value()\n",
    "counter.decrease()\n",
    "counter.print_value()"
   ],
   "id": "180087f7018b59ed",
   "outputs": [
    {
     "name": "stdout",
     "output_type": "stream",
     "text": [
      "Value: 2\n",
      "Value: 1\n",
      "Value: 0\n",
      "Value: 0\n"
     ]
    }
   ],
   "execution_count": 2
  },
  {
   "metadata": {},
   "cell_type": "markdown",
   "source": "### TODO: First and last name",
   "id": "a39acbcfa137fe94"
  },
  {
   "metadata": {
    "ExecuteTime": {
     "end_time": "2025-08-23T08:24:06.938599Z",
     "start_time": "2025-08-23T08:24:06.933630Z"
    }
   },
   "cell_type": "code",
   "source": [
    "def valid_name(name: str) -> bool:\n",
    "    return len(name.split(\" \")) >= 2\n",
    "\n",
    "class Person:\n",
    "    def __init__(self, name: str, *args) -> None:\n",
    "        self.name = \"\"\n",
    "\n",
    "        # Helper function to validate an attribute\n",
    "        if valid_name(name):\n",
    "            self.name = name\n",
    "        else:\n",
    "            print(args)\n",
    "            raise ValueError(\"Name attribute is not valid.\")\n",
    "\n",
    "\n",
    "    def get_first_name(self) -> str:\n",
    "        return self.name.split(\" \")[0]\n",
    "\n",
    "    def get_last_name(self) -> str:\n",
    "        return \" \".join(self.name.split(\" \")[1:])\n",
    "\n",
    "\n",
    "peter = Person('Peter Pythons')\n",
    "print(f\"First name: {peter.get_first_name()}\")\n",
    "print(f\"Last name: {peter.get_last_name()}\")\n",
    "\n",
    "paula = Person('Paula Pythonen')\n",
    "print(f\"First name: {paula.get_first_name()}\")\n",
    "print(f\"Last name: {paula.get_last_name()}\")"
   ],
   "id": "6ea8cc497bb870e",
   "outputs": [
    {
     "name": "stdout",
     "output_type": "stream",
     "text": [
      "First name: Peter\n",
      "Last name: Pythons\n",
      "First name: Paula\n",
      "Last name: Pythonen\n"
     ]
    }
   ],
   "execution_count": 8
  },
  {
   "metadata": {},
   "cell_type": "markdown",
   "source": "### TODO: Statistics on numbers",
   "id": "cb79289e3efb0335"
  },
  {
   "metadata": {
    "ExecuteTime": {
     "end_time": "2025-08-23T09:34:42.306904Z",
     "start_time": "2025-08-23T09:34:27.763274Z"
    }
   },
   "cell_type": "code",
   "source": [
    "class NumberStats:\n",
    "    count_num = 0\n",
    "    def __init__(self):\n",
    "        self.numbers = 0\n",
    "\n",
    "    def add_number(self, number: int) -> None:\n",
    "        if number < 0:\n",
    "            raise ValueError(\"Number must be positive\")\n",
    "\n",
    "        self.count_num += 1\n",
    "        self.numbers += number\n",
    "\n",
    "    def count_numbers(self) -> int:\n",
    "        return self.count_num\n",
    "\n",
    "    def get_sum(self) -> float:\n",
    "        return self.numbers\n",
    "\n",
    "    def average(self) -> float:\n",
    "        if self.numbers == 0:\n",
    "            return 0\n",
    "\n",
    "        return round(self.numbers / self.count_num, 2)\n",
    "\n",
    "def main() -> None:\n",
    "    numbers: list[int] = []\n",
    "\n",
    "    while True:\n",
    "        try:\n",
    "            number = int(input(\"Please type in integer numbers: \"))\n",
    "\n",
    "            if number == -1:\n",
    "                break\n",
    "            numbers.append(number)\n",
    "        except ValueError as e:\n",
    "            print(e)\n",
    "\n",
    "\n",
    "    stats = NumberStats()\n",
    "    even_stats = NumberStats()\n",
    "    odd_stats = NumberStats()\n",
    "\n",
    "    for number in numbers:\n",
    "        if number % 2 == 0:\n",
    "            even_stats.add_number(number)\n",
    "        else:\n",
    "            odd_stats.add_number(number)\n",
    "\n",
    "        stats.add_number(number)\n",
    "\n",
    "    print(\"Numbers added:\", stats.count_numbers())\n",
    "    print(\"Sum of numbers:\", stats.get_sum())\n",
    "    print(\"Mean of numbers:\", stats.average())\n",
    "    print(\"Sum of even numbers:\", even_stats.get_sum())\n",
    "    print(\"Sum of odd numbers:\", odd_stats.get_sum())\n",
    "\n",
    "main()"
   ],
   "id": "8a69d009521a191d",
   "outputs": [
    {
     "name": "stdout",
     "output_type": "stream",
     "text": [
      "Numbers added: 4\n",
      "Sum of numbers: 13\n",
      "Mean of numbers: 3.25\n",
      "Sum of even numbers: 8\n",
      "Sum of odd numbers: 5\n"
     ]
    }
   ],
   "execution_count": 18
  }
 ],
 "metadata": {
  "kernelspec": {
   "name": "python3",
   "language": "python",
   "display_name": "Python 3 (ipykernel)"
  }
 },
 "nbformat": 4,
 "nbformat_minor": 5
}

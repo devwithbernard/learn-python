{
 "cells": [
  {
   "metadata": {},
   "cell_type": "markdown",
   "source": "### Methods in classes",
   "id": "4d1336021c6a4387"
  },
  {
   "metadata": {
    "ExecuteTime": {
     "end_time": "2025-08-22T13:39:02.344217Z",
     "start_time": "2025-08-22T13:39:02.340095Z"
    }
   },
   "cell_type": "code",
   "source": [
    "class BankAccount:\n",
    "    \"\"\"A class representing a bank account.\n",
    "\n",
    "    This class stores information about a bank account such as the account\n",
    "    number, the owner, the current balance, and the annual interest rate.\n",
    "\n",
    "    Attributes:\n",
    "        account_number (str): The unique identifier of the bank account.\n",
    "        owner (str): The name of the account holder.\n",
    "        balance (float): The current balance of the account.\n",
    "        annual_interest (float): The annual interest rate (in percentage or decimal).\n",
    "    \"\"\"\n",
    "\n",
    "    def __init__(\n",
    "        self,\n",
    "        account_number: str,\n",
    "        owner: str,\n",
    "        balance: float,\n",
    "        annual_interest: float\n",
    "    ) -> None:\n",
    "        \"\"\"Initializes a BankAccount instance.\n",
    "\n",
    "        Args:\n",
    "            account_number (str): The unique identifier of the bank account.\n",
    "            owner (str): The name of the account holder.\n",
    "            balance (float): The starting balance of the account.\n",
    "            annual_interest (float): The annual interest rate applied to the account.\n",
    "        \"\"\"\n",
    "        self.account_number = account_number\n",
    "        self.owner = owner\n",
    "        self.balance = balance\n",
    "        self.annual_interest = annual_interest\n",
    "\n",
    "    def add_interest(self) -> None:\n",
    "        \"\"\"Applies the annual interest to the current balance.\n",
    "\n",
    "        This method increases the account balance by adding the\n",
    "        interest calculated from the current balance and the\n",
    "        annual interest rate.\n",
    "\n",
    "        Returns:\n",
    "            None\n",
    "        \"\"\"\n",
    "        self.balance += self.balance * self.annual_interest"
   ],
   "id": "2cbf84c7141873e4",
   "outputs": [],
   "execution_count": 3
  },
  {
   "metadata": {
    "ExecuteTime": {
     "end_time": "2025-08-22T13:39:05.408161Z",
     "start_time": "2025-08-22T13:39:05.404431Z"
    }
   },
   "cell_type": "code",
   "source": [
    "peters_account = BankAccount(\"12345-678\", \"Peter Python\", 1500.0, 0.015)\n",
    "paula_account = BankAccount(\"99999-999\", \"Paula Pythonen\", 1500.0, 0.05)\n",
    "pippa_account = BankAccount(\"1111-222\", \"Pippa Programmer\", 1500.0, 0.001)\n",
    "\n",
    "# Add interest on Peter's and Paula's accounts, but not in Pippa's\n",
    "peters_account.add_interest()\n",
    "paula_account.add_interest()\n",
    "\n",
    "# Print all account balances\n",
    "print(f\"{peters_account.owner}: ${peters_account.balance}\")\n",
    "print(f\"{paula_account.owner}: ${paula_account.balance}\")\n",
    "print(f\"{pippa_account.owner}: ${pippa_account.balance}\")"
   ],
   "id": "b813617df9668a22",
   "outputs": [
    {
     "name": "stdout",
     "output_type": "stream",
     "text": [
      "Peter Python: $1522.5\n",
      "Paula Pythonen: $1575.0\n",
      "Pippa Programmer: $1500.0\n"
     ]
    }
   ],
   "execution_count": 4
  },
  {
   "metadata": {},
   "cell_type": "code",
   "outputs": [],
   "execution_count": null,
   "source": "",
   "id": "9bf5e3a3f6d636e2"
  }
 ],
 "metadata": {
  "kernelspec": {
   "name": "python3",
   "language": "python",
   "display_name": "Python 3 (ipykernel)"
  }
 },
 "nbformat": 4,
 "nbformat_minor": 5
}

{
 "cells": [
  {
   "metadata": {},
   "cell_type": "markdown",
   "source": "### TODO: The fastest car",
   "id": "94789cefd05cd612"
  },
  {
   "metadata": {
    "ExecuteTime": {
     "end_time": "2025-08-25T14:52:28.960601Z",
     "start_time": "2025-08-25T14:52:28.955157Z"
    }
   },
   "cell_type": "code",
   "source": [
    "class Car:\n",
    "\n",
    "    def __init__(self, made_by: str, top_speed: int) -> None:\n",
    "        self.made_by = made_by\n",
    "        self.top_speed = top_speed\n",
    "\n",
    "    def __str__(self) -> str:\n",
    "        return f\"Car: made by {self.made_by} and top speed {self.top_speed} km/h\"\n",
    "\n",
    "\n",
    "def fastest_car(cars: list[Car]) -> str:\n",
    "    found_car = cars[0]\n",
    "\n",
    "    for car in cars:\n",
    "        if car.top_speed > found_car.top_speed:\n",
    "            found_car = car\n",
    "\n",
    "    return found_car.made_by\n",
    "\n",
    "car1 = Car(\"Saab\", 195)\n",
    "car2 = Car(\"Lada\", 110)\n",
    "car3 = Car(\"Ferrari\", 280)\n",
    "car4 = Car(\"Trabant\", 85)\n",
    "\n",
    "cars = [car1, car2, car3, car4]\n",
    "print(\"The fastest car is\", fastest_car(cars))"
   ],
   "id": "e4cb195207dfc7d9",
   "outputs": [
    {
     "name": "stdout",
     "output_type": "stream",
     "text": [
      "The fastest car is Ferrari\n"
     ]
    }
   ],
   "execution_count": 5
  }
 ],
 "metadata": {
  "kernelspec": {
   "name": "python3",
   "language": "python",
   "display_name": "Python 3 (ipykernel)"
  }
 },
 "nbformat": 4,
 "nbformat_minor": 5
}

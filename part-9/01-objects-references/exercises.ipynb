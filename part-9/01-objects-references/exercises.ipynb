{
 "cells": [
  {
   "metadata": {},
   "cell_type": "markdown",
   "source": "### TODO: The fastest car",
   "id": "94789cefd05cd612"
  },
  {
   "metadata": {
    "ExecuteTime": {
     "end_time": "2025-08-25T14:52:28.960601Z",
     "start_time": "2025-08-25T14:52:28.955157Z"
    }
   },
   "cell_type": "code",
   "source": [
    "class Car:\n",
    "\n",
    "    def __init__(self, made_by: str, top_speed: int) -> None:\n",
    "        self.made_by = made_by\n",
    "        self.top_speed = top_speed\n",
    "\n",
    "    def __str__(self) -> str:\n",
    "        return f\"Car: made by {self.made_by} and top speed {self.top_speed} km/h\"\n",
    "\n",
    "\n",
    "def fastest_car(cars: list[Car]) -> str:\n",
    "    found_car = cars[0]\n",
    "\n",
    "    for car in cars:\n",
    "        if car.top_speed > found_car.top_speed:\n",
    "            found_car = car\n",
    "\n",
    "    return found_car.made_by\n",
    "\n",
    "car1 = Car(\"Saab\", 195)\n",
    "car2 = Car(\"Lada\", 110)\n",
    "car3 = Car(\"Ferrari\", 280)\n",
    "car4 = Car(\"Trabant\", 85)\n",
    "\n",
    "cars = [car1, car2, car3, car4]\n",
    "print(\"The fastest car is\", fastest_car(cars))"
   ],
   "id": "e4cb195207dfc7d9",
   "outputs": [
    {
     "name": "stdout",
     "output_type": "stream",
     "text": [
      "The fastest car is Ferrari\n"
     ]
    }
   ],
   "execution_count": 5
  },
  {
   "metadata": {},
   "cell_type": "markdown",
   "source": "### TODO: Passing submissions",
   "id": "b7f903a8d94048fc"
  },
  {
   "metadata": {
    "ExecuteTime": {
     "end_time": "2025-08-25T15:17:27.890686Z",
     "start_time": "2025-08-25T15:17:27.885639Z"
    }
   },
   "cell_type": "code",
   "source": [
    "class ExamSubmission:\n",
    "\n",
    "    def __init__(self, examinee: str, points: int) -> None:\n",
    "        self.examinee = examinee\n",
    "        self.points = points\n",
    "\n",
    "    def __str__(self) -> str:\n",
    "        return f\"ExamSubmission (examinee: {self.examinee}, points: {self.points})\"\n",
    "\n",
    "\n",
    "def passed(submissions: list[ExamSubmission], lowest_passing: int) -> list[ExamSubmission]:\n",
    "    passes: list[ExamSubmission] = []\n",
    "\n",
    "    for item in submissions:\n",
    "        if item.points >= lowest_passing:\n",
    "            passes.append(item)\n",
    "\n",
    "    return passes\n",
    "\n",
    "\n",
    "s1 = ExamSubmission(\"Peter\", 12)\n",
    "s2 = ExamSubmission(\"Pippa\", 19)\n",
    "s3 = ExamSubmission(\"Paul\", 15)\n",
    "s4 = ExamSubmission(\"Phoebe\", 9)\n",
    "s5 = ExamSubmission(\"Persephone\", 17)\n",
    "\n",
    "passes = passed([s1, s2, s3, s4, s5], 15)\n",
    "\n",
    "for passing in passes:\n",
    "    print(passing)"
   ],
   "id": "a4b9b502e9d866fa",
   "outputs": [
    {
     "name": "stdout",
     "output_type": "stream",
     "text": [
      "ExamSubmission (examinee: Pippa, points: 19)\n",
      "ExamSubmission (examinee: Paul, points: 15)\n",
      "ExamSubmission (examinee: Persephone, points: 17)\n"
     ]
    }
   ],
   "execution_count": 6
  },
  {
   "metadata": {},
   "cell_type": "markdown",
   "source": "### TODO: Baby Centre",
   "id": "ecf2f558c66089c5"
  },
  {
   "metadata": {
    "ExecuteTime": {
     "end_time": "2025-08-26T07:25:32.747399Z",
     "start_time": "2025-08-26T07:25:32.731901Z"
    }
   },
   "cell_type": "code",
   "source": [
    "class Person:\n",
    "    \n",
    "    def __init__(self, name: str, age: int, height: float, weight: float) -> None:\n",
    "        self.name = name\n",
    "        self.age = age\n",
    "        self.height = height\n",
    "        self.weight = weight\n",
    "    \n",
    "    def __str__(self) -> str:\n",
    "        return f\"{self.name}(age = {self.age}, height = {self.height}, weight = {self.weight})\"\n",
    "\n",
    "class BabyCentre:\n",
    "    __track_weigh = 0\n",
    "    \n",
    "    def weigh(self, person: Person) -> float:\n",
    "        self.__track_weigh += 1\n",
    "        return person.weight\n",
    "    \n",
    "    def feed(self, person: Person) -> None:\n",
    "        person.weight += 1\n",
    "        self.__track_weigh += 1\n",
    "        \n",
    "    def weigh_ins(self) -> int:\n",
    "        return self.__track_weigh\n",
    "\n",
    "baby_centre = BabyCentre()\n",
    "\n",
    "eric = Person(\"Eric\", 1, 110, 7)\n",
    "peter = Person(\"Peter\", 33, 176, 85)\n",
    "\n",
    "print(f\"{eric.name} weighs {baby_centre.weigh(eric)} kg\")\n",
    "print(f\"{peter.name} weighs {baby_centre.weigh(peter)} kg\")\n",
    "\n",
    "baby_centre.feed(eric)\n",
    "baby_centre.feed(eric)\n",
    "baby_centre.feed(eric)\n",
    "\n",
    "print(f\"{eric.name} weighs {baby_centre.weigh(eric)} kg\")\n",
    "print(f\"{peter.name} weighs {baby_centre.weigh(peter)} kg\")\n",
    "\n",
    "print(f\"Total number of weigh-ins is {baby_centre.weigh_ins()}\")\n",
    "\n",
    "baby_centre.weigh(eric)\n",
    "baby_centre.weigh(eric)\n",
    "\n",
    "print(f\"Total number of weigh-ins is {baby_centre.weigh_ins()}\")\n",
    "\n",
    "baby_centre.weigh(eric)\n",
    "baby_centre.weigh(eric)\n",
    "baby_centre.weigh(eric)\n",
    "baby_centre.weigh(eric)\n",
    "\n",
    "print(f\"Total number of weigh-ins is {baby_centre.weigh_ins()}\")"
   ],
   "id": "414d2c1b29637ef4",
   "outputs": [
    {
     "name": "stdout",
     "output_type": "stream",
     "text": [
      "Eric weighs 7 kg\n",
      "Peter weighs 85 kg\n",
      "Eric weighs 10 kg\n",
      "Peter weighs 85 kg\n",
      "Total number of weigh-ins is 7\n",
      "Total number of weigh-ins is 9\n",
      "Total number of weigh-ins is 13\n"
     ]
    }
   ],
   "execution_count": 8
  }
 ],
 "metadata": {
  "kernelspec": {
   "name": "python3",
   "language": "python",
   "display_name": "Python 3 (ipykernel)"
  }
 },
 "nbformat": 4,
 "nbformat_minor": 5
}

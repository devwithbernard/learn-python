{
 "cells": [
  {
   "metadata": {},
   "cell_type": "markdown",
   "source": "### Objects and references",
   "id": "fc29d84099130925"
  },
  {
   "metadata": {
    "ExecuteTime": {
     "end_time": "2025-08-25T14:40:09.379072Z",
     "start_time": "2025-08-25T14:40:09.373585Z"
    }
   },
   "cell_type": "code",
   "source": [
    "from datetime import date\n",
    "\n",
    "class CompletedCourse:\n",
    "\n",
    "    def __init__(self, course_name: str, credits: int, completion_date: date) -> None:\n",
    "        self.course_name = course_name\n",
    "        self.credits = credits\n",
    "        self.completion_date = completion_date\n",
    "\n",
    "\n",
    "def main():\n",
    "    completed_courses: list[CompletedCourse] = []\n",
    "\n",
    "    maths1 = CompletedCourse(\"Mathmatics 1\", 5, date(2020, 3, 11))\n",
    "    prog1 = CompletedCourse(\"Programming 1\", 6, date(2019, 12, 17))\n",
    "    phys2 = CompletedCourse(\"Physics 2\", 4, date(2019, 11, 10))\n",
    "    prog2 = CompletedCourse(\"Programming 2\", 5, date(2020, 5, 19))\n",
    "\n",
    "\n",
    "    completed_courses.append(maths1)\n",
    "    completed_courses.append(prog1)\n",
    "    completed_courses.append(phys2)\n",
    "    completed_courses.append(prog2)\n",
    "\n",
    "    total_credits = 0\n",
    "\n",
    "    print(\"All courses:\")\n",
    "\n",
    "    for course in completed_courses:\n",
    "        print(\"\\t-\",course.course_name)\n",
    "        total_credits += course.credits\n",
    "\n",
    "    print(\"Total credits received:\", total_credits)\n",
    "\n",
    "\n",
    "main()"
   ],
   "id": "bb9705884fac9ad1",
   "outputs": [
    {
     "name": "stdout",
     "output_type": "stream",
     "text": [
      "All courses:\n",
      "\t- Mathmatics 1\n",
      "\t- Programming 1\n",
      "\t- Physics 2\n",
      "\t- Programming 2\n",
      "Total credits received: 20\n"
     ]
    }
   ],
   "execution_count": 8
  }
 ],
 "metadata": {
  "kernelspec": {
   "name": "python3",
   "language": "python",
   "display_name": "Python 3 (ipykernel)"
  }
 },
 "nbformat": 4,
 "nbformat_minor": 5
}

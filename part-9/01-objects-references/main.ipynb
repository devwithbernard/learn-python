{
 "cells": [
  {
   "metadata": {},
   "cell_type": "markdown",
   "source": "### Objects and references",
   "id": "fc29d84099130925"
  },
  {
   "metadata": {
    "ExecuteTime": {
     "end_time": "2025-08-25T14:40:09.379072Z",
     "start_time": "2025-08-25T14:40:09.373585Z"
    }
   },
   "cell_type": "code",
   "source": [
    "from datetime import date\n",
    "\n",
    "class CompletedCourse:\n",
    "\n",
    "    def __init__(self, course_name: str, credits: int, completion_date: date) -> None:\n",
    "        self.course_name = course_name\n",
    "        self.credits = credits\n",
    "        self.completion_date = completion_date\n",
    "\n",
    "\n",
    "def main():\n",
    "    completed_courses: list[CompletedCourse] = []\n",
    "\n",
    "    maths1 = CompletedCourse(\"Mathmatics 1\", 5, date(2020, 3, 11))\n",
    "    prog1 = CompletedCourse(\"Programming 1\", 6, date(2019, 12, 17))\n",
    "    phys2 = CompletedCourse(\"Physics 2\", 4, date(2019, 11, 10))\n",
    "    prog2 = CompletedCourse(\"Programming 2\", 5, date(2020, 5, 19))\n",
    "\n",
    "\n",
    "    completed_courses.append(maths1)\n",
    "    completed_courses.append(prog1)\n",
    "    completed_courses.append(phys2)\n",
    "    completed_courses.append(prog2)\n",
    "\n",
    "    total_credits = 0\n",
    "\n",
    "    print(\"All courses:\")\n",
    "\n",
    "    for course in completed_courses:\n",
    "        print(\"\\t-\",course.course_name)\n",
    "        total_credits += course.credits\n",
    "\n",
    "    print(\"Total credits received:\", total_credits)\n",
    "\n",
    "\n",
    "main()"
   ],
   "id": "bb9705884fac9ad1",
   "outputs": [
    {
     "name": "stdout",
     "output_type": "stream",
     "text": [
      "All courses:\n",
      "\t- Mathmatics 1\n",
      "\t- Programming 1\n",
      "\t- Physics 2\n",
      "\t- Programming 2\n",
      "Total credits received: 20\n"
     ]
    }
   ],
   "execution_count": 8
  },
  {
   "metadata": {},
   "cell_type": "markdown",
   "source": "### Objects as arguments to functions",
   "id": "31b10f2d914b170a"
  },
  {
   "metadata": {
    "ExecuteTime": {
     "end_time": "2025-08-25T15:52:47.532481Z",
     "start_time": "2025-08-25T15:52:47.526936Z"
    }
   },
   "cell_type": "code",
   "source": [
    "class Student:\n",
    "\n",
    "    def __init__(self, name: str, student_number: str) -> None:\n",
    "        self.name = name\n",
    "        self.student_number = student_number\n",
    "\n",
    "    def __str__(self) -> str:\n",
    "        return f\"{self.name} ({self.student_number})\"\n",
    "\n",
    "\n",
    "def change_name(student: Student) -> None:\n",
    "    student.name = \"Saul Student\"\n",
    "\n",
    "steve = Student('Steve Student', \"12345\")\n",
    "\n",
    "print(steve)\n",
    "change_name(steve)\n",
    "print(steve)"
   ],
   "id": "5cdf256d6ab1107f",
   "outputs": [
    {
     "name": "stdout",
     "output_type": "stream",
     "text": [
      "Steve Student (12345)\n",
      "Saul Student (12345)\n"
     ]
    }
   ],
   "execution_count": 1
  },
  {
   "metadata": {},
   "cell_type": "markdown",
   "source": "### Objects as arguments to methods",
   "id": "a525535500aac125"
  },
  {
   "metadata": {
    "ExecuteTime": {
     "end_time": "2025-08-25T16:03:59.474402Z",
     "start_time": "2025-08-25T16:03:59.469465Z"
    }
   },
   "cell_type": "code",
   "source": [
    "class Person:\n",
    "\n",
    "    def __init__(self, name: str, height: int) -> None:\n",
    "        self.name = name\n",
    "        self.height = height\n",
    "\n",
    "class Attraction:\n",
    "\n",
    "    def __init__(self, name: str, min_height: int) -> None:\n",
    "        self.visitors = 0\n",
    "        self.name = name\n",
    "        self.min_height = min_height\n",
    "\n",
    "    def admit_visitor(self, person: Person):\n",
    "        if person.height >= self.min_height:\n",
    "            self.visitors += 1\n",
    "            print(f\"{person.name} got on board\")\n",
    "        else:\n",
    "            print(f\"{person.name} was too short :(\")\n",
    "\n",
    "    def __str__(self):\n",
    "        return f\"{self.name} ({self.visitors} visitors)\"\n",
    "\n",
    "\n",
    "rollercoaster = Attraction(\"Rollercoaster\", 120)\n",
    "jared = Person(\"Jared\", 172)\n",
    "alice = Person(\"Alice\", 105)\n",
    "\n",
    "rollercoaster.admit_visitor(jared)\n",
    "rollercoaster.admit_visitor(alice)\n",
    "\n",
    "print(rollercoaster)"
   ],
   "id": "5bf17e8941e0d99a",
   "outputs": [
    {
     "name": "stdout",
     "output_type": "stream",
     "text": [
      "Jared got on board\n",
      "Alice was too short :(\n",
      "Rollercoaster (1 visitors)\n"
     ]
    }
   ],
   "execution_count": 3
  }
 ],
 "metadata": {
  "kernelspec": {
   "name": "python3",
   "language": "python",
   "display_name": "Python 3 (ipykernel)"
  }
 },
 "nbformat": 4,
 "nbformat_minor": 5
}
